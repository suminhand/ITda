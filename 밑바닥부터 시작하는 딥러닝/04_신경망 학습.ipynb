{
 "cells": [
  {
   "cell_type": "markdown",
   "metadata": {},
   "source": [
    "# CHEPTER 4 신경망 학습\n",
    "---\n",
    "- 학습: 훈련 데이터로부터 가중치 매개변수의 최적값을 자동으로 획득하는 것.\n",
    "- 손실 함수: 신경망이 학습할 수 있도록 해주는 지표  \n",
    "    -> 손실함수의 결괏값을 가장 작게 만들어야 함.\n",
    "- 경사법: 함수의 기울기를 활용하여 손실 함수의 값을 가급적 작게 만드는 것.\n",
    "\n",
    "## 4.1 데이터에서 학습한다!\n",
    "\n",
    "- 신경망은 데이터를 보고 학습할 수 있다는 특징을 갖는다.  \n",
    "    즉, 가중치 매개변수의 값이 데이터를 보고 자동으로 결정이 된다.\n",
    "\n",
    "### 4.1.1 데이터 주도 학습\n",
    "\n",
    "- 기계학습: 데이터에서 답을 찾고 패턴을 발견하고 이야기를 만드는 것. 데이터 매우 중요!!  \n",
    "    -> 데이터가 이끄는 접근 방식 덕에 사람 중심 접근에서 벗어날 수 있었음.\n",
    "\n",
    "- 문제를 해결하는 방법  \n",
    "    -> 기존 프로그램: 문제 - 사람이 생각한 알고리즘 - 결과  \n",
    "    -> 기계 학습: 문제 - 사람이 생각한 특징(SIFT, HOG 등) - 기계학습(SVM, KNN 등) - 결과  \n",
    "    -> 신경망(딥러닝): 문제 - 신경망(딥러닝) - 결과\n",
    "\n",
    "- 기계 학습은 '사람'이 적절한 특징을 생각해 내고 모아진 데이터로부터 기계학습을 통해 규칙을 찾아내야 했음.\n",
    "- 신경망은 이미지를 '있는 그대로' 학습. 사람이 생각했던 특징들까지 '기계' 스스로 학습 (=> 종단간 기계학습(end-to-end machine learning)이라고도 함.)\n",
    "\n",
    "### 4.1.2 훈련 데이터와 시험 데이터\n",
    "\n",
    "- 기계 데이터를 취급할 때 주의할 점  \n",
    "범용 능력(아직 보지 못한 데이터로 문제를 올바르게 풀어내는 능력)을 제대로 평가하기 위해 훈련 데이터와 시험 데이터를 분리한다.\n",
    "    - 훈련 데이터: 최적의 매개변수를 찾기 위한 데이터\n",
    "    - 시험 데이터: 앞서 훈련한 모델의 실력을 평가하기 위한 데이터  \n",
    "(오버피팅: 한 데이터셋에만 지나치게 최적화된 상태)\n",
    "\n",
    "\n",
    "## 4.2 손실 함수\n",
    "\n",
    "- 신경망에서는 '하나의 지표'를 기준으로 최적의 매개변수 값을 탐색하는데, 신경망 학습에서 사용하는 지표를 손실함수라고 한다.  \n",
    "    손실함수는 일반적으로 오차제곱합과 교차 엔트로피 오차를 사용.  \n",
    "\n",
    "### 4.2.1 오차제곱합\n",
    "\n",
    "- 원-핫 인코딩: 한 원소만 1로 하고 그 외에는 0으로 나타내는 표기법"
   ]
  },
  {
   "cell_type": "code",
   "execution_count": 1,
   "metadata": {},
   "outputs": [],
   "source": [
    "# 오차제곱합\n",
    "\n",
    "import numpy as np\n",
    "\n",
    "def sum_squares_error(y, t):    # y, t는 넘파이 배열\n",
    "    return 0.5 * np.sum((y - t)**2)"
   ]
  },
  {
   "cell_type": "code",
   "execution_count": 2,
   "metadata": {},
   "outputs": [
    {
     "name": "stdout",
     "output_type": "stream",
     "text": [
      "0.09750000000000003\n",
      "0.5975\n"
     ]
    }
   ],
   "source": [
    "t = [0, 0, 1, 0, 0, 0, 0, 0, 0, 0] # 정답은 '2'\n",
    "\n",
    "y = [0.1, 0.05, 0.6, 0.0, 0.05, 0.1, 0.0, 0.1, 0.0, 0.0]    # 2일 확률이 가장 높다고 추정\n",
    "\n",
    "print(sum_squares_error(np.array(y), np.array(t)))\n",
    "\n",
    "y = [0.1, 0.05, 0.1, 0.0, 0.05, 0.1, 0.0, 0.6, 0.0, 0.0]    # 7일 확률이 가장 높다고 추정\n",
    "\n",
    "print(sum_squares_error(np.array(y), np.array(t)))\n",
    "\n",
    "# 첫 번째 예의 추정 결과가 호차가 더 작으므로 정답에 더 가까울 것임."
   ]
  },
  {
   "cell_type": "markdown",
   "metadata": {},
   "source": [
    "### 4.2.2 교차 엔트로피 오차\n",
    "\n",
    "- 교차 엔트로피 오차는 정답일 때의 출력이 전체 값을 정한다."
   ]
  },
  {
   "cell_type": "code",
   "execution_count": 3,
   "metadata": {},
   "outputs": [],
   "source": [
    "# 교차 엔트로피 오차\n",
    "\n",
    "import numpy as np\n",
    "\n",
    "def coross_entropy_error(y, t):\n",
    "    delta = 1e-7\n",
    "    return -np.sum(t * np.log(y +delta))"
   ]
  },
  {
   "cell_type": "code",
   "execution_count": 4,
   "metadata": {},
   "outputs": [
    {
     "data": {
      "text/plain": [
       "2.302584092994546"
      ]
     },
     "execution_count": 4,
     "metadata": {},
     "output_type": "execute_result"
    }
   ],
   "source": [
    "t = [0, 0, 1, 0, 0, 0, 0, 0, 0, 0]\n",
    "y = [0.1, 0.05, 0.6, 0.0, 0.05, 0.1, 0.0, 0.1, 0.0, 0.0]\n",
    "coross_entropy_error(np.array(y), np.array(t))\n",
    "\n",
    "y = [0.1, 0.05, 0.1, 0.0, 0.05, 0.1, 0.0, 0.6, 0.0, 0.0] \n",
    "coross_entropy_error(np.array(y), np.array(t))"
   ]
  },
  {
   "cell_type": "markdown",
   "metadata": {},
   "source": [
    "### 4.2.3 미니배치 학습\n",
    "\n",
    "- 미니배치: 훈련 데이터로부터 일부만 골라 학습을 수행하는 것\n",
    "- 미니배치 학습: 많은 데이터 중 일부만을 가지고 학습하는 학습 방법\n",
    "\n"
   ]
  },
  {
   "cell_type": "code",
   "execution_count": null,
   "metadata": {},
   "outputs": [],
   "source": [
    "import sys, os\n",
    "sys.path.append(os.pardir)\n",
    "import numpy as np\n",
    "from"
   ]
  },
  {
   "cell_type": "markdown",
   "metadata": {},
   "source": [
    "### 4.2.5 왜 손실 함수를 설정하는가?\n",
    "\n",
    "신경망 학습에서는 최적의 배개변수(가중치와편향)를 탐색할 때 손실 함수의 값을 가능한 한 작게 하는 매개변수 값을 찾는다.  \n",
    "이때 매개변수의 미분(기울기)를 계산하고, 그 미분 값을 단서로 매개변수의 값을 서서히 갱신하는 과정 반복.  \n",
    "\n",
    "- 지표로 정확도를 사용하게 되면 매개변수의 미분이 대부분의 장소에서 0이 되므로 사용하지 않는다.( 연속이 아니라 불연속적인 값을 가지므로)  \n",
    "    이는 활성화 함수로 계단 함수를 사용하지 않는 이유와도 들어맞는다.\n",
    "    \n",
    "## 4.3 수치 미분\n",
    "\n",
    "- 경사법: 기울기(경사) 값을 기준으로 나아갈 방향 정함.\n",
    "\n",
    "### 4.3.1 미분\n",
    "\n",
    "- 미분: '특정 순간'의 변화량"
   ]
  },
  {
   "cell_type": "code",
   "execution_count": 2,
   "metadata": {},
   "outputs": [],
   "source": [
    "# 미분\n",
    "\n",
    "# 나쁜 예\n",
    "\n",
    "def numerical_diff(f, x):\n",
    "    h = 1e-50\n",
    "    return (f(x + h) - f(x)) / h"
   ]
  },
  {
   "cell_type": "markdown",
   "metadata": {},
   "source": [
    "- h에 가급적 작은 값을 대입하기 위해 1e-50(0.00...1 형태에서 소수점 아래 0이 50개)이라는 작은 값을 사용.\n",
    "    이것은 반올림 오차 문제를 일으킴.\n",
    "\n",
    "- 반올림 오차: 작은값(소수점 8자리 이하)가 생략되어 최종 결과 계산에 오차 발생\n",
    "\n",
    "> 개선점 1:\n",
    "- h에 10의 -4제곱 사용.\n",
    "\n",
    "> 개선점 2:\n",
    "- 함수 f의 차분과 관련한 것\n",
    "    h를 무한히 0으로 좁히는 것은 불가능하므로 x위치에서의 접선이 아닌 x+h와 x 사이의 기울기를 이용(근사 값 이용: 수치미분)  \n",
    "    수치 미분은 근사 값을 이용하기에 오차가 포함되므로, 이를 줄이기 위해 (x+h)와 (x-h)일 때의 함수 f의 차분을 계산하는 방법 이용  \n",
    "    (이는 x를 중심으로 그 전후의 차분을 계산한다는 의미로 중심 차분 혹은 중앙 차분이라고 불린다.)  \n",
    "    (x+h와 x의 차분은 전방 차분)    "
   ]
  },
  {
   "cell_type": "code",
   "execution_count": 1,
   "metadata": {},
   "outputs": [],
   "source": [
    "# 개선점을 이용해 미분 구현\n",
    "\n",
    "def numerical_diff(f, x):\n",
    "    h = 1e-4\n",
    "    return (f(x+h) - f(x-h)) / (2*h)"
   ]
  },
  {
   "cell_type": "markdown",
   "metadata": {},
   "source": [
    "### 4.3.2 수치 미분의 예"
   ]
  },
  {
   "cell_type": "code",
   "execution_count": 2,
   "metadata": {},
   "outputs": [],
   "source": [
    "# y = 0.01x^2 + 0.1x 함수\n",
    "\n",
    "def function_1(x):\n",
    "    return 0.01*x**2 + 0.1*x"
   ]
  },
  {
   "cell_type": "code",
   "execution_count": 5,
   "metadata": {},
   "outputs": [
    {
     "data": {
      "image/png": "[encoded data removed]",
      "text/plain": [
       "<Figure size 432x288 with 1 Axes>"
      ]
     },
     "metadata": {
      "needs_background": "light"
     },
     "output_type": "display_data"
    },
    {
     "name": "stdout",
     "output_type": "stream",
     "text": [
      "0.1999999999990898\n",
      "0.2999999999986347\n"
     ]
    }
   ],
   "source": [
    "import numpy as np\n",
    "import matplotlib.pylab as plt\n",
    "\n",
    "x = np.arange(0.0, 20.0, 0.1)\n",
    "y = function_1(x)\n",
    "plt.xlabel(\"x\")\n",
    "plt.ylabel(\"f(x)\")\n",
    "plt.plot(x, y)\n",
    "plt.show()\n",
    "\n",
    "print(numerical_diff(function_1, 5))   # x=5 일 때 함수의 미분\n",
    "print(numerical_diff(function_1, 10))  # x=10일 때 함수의 미분"
   ]
  },
  {
   "cell_type": "markdown",
   "metadata": {},
   "source": [
    "### 4.3.3 편미분\n",
    "\n",
    "- 변수가 여럿인 함수에 대한 미분\n",
    "- 편미분에서는 '어느 변수에 대한 미분인지'를 구별해야 함."
   ]
  },
  {
   "cell_type": "code",
   "execution_count": 7,
   "metadata": {},
   "outputs": [],
   "source": [
    "# 변수가 두개인 f(x0, x1) = x0^2 + x1^2 함수\n",
    "\n",
    "def function_2(x):\n",
    "    return x[0]**2 +x[1]**2  # =np.sum(x**2)"
   ]
  },
  {
   "cell_type": "code",
   "execution_count": 9,
   "metadata": {},
   "outputs": [
    {
     "name": "stdout",
     "output_type": "stream",
     "text": [
      "6.00000000000378\n"
     ]
    }
   ],
   "source": [
    "# x0 = 3, x1 = 4일 대, x0에 대한 편미분\n",
    "\n",
    "def function_tmp1(x0):\n",
    "    return x0*x0 + 4.0**2.0\n",
    "\n",
    "print(numerical_diff(function_tmp1, 3.0))"
   ]
  },
  {
   "cell_type": "code",
   "execution_count": 12,
   "metadata": {},
   "outputs": [
    {
     "name": "stdout",
     "output_type": "stream",
     "text": [
      "7.999999999999119\n"
     ]
    }
   ],
   "source": [
    "# x0 = 3, x1 = 4 일때 x1에 대한 편미분\n",
    "\n",
    "def function_tmp2(x1):\n",
    "    return 3.0**2.0 + x1*x1\n",
    "\n",
    "print(numerical_diff(function_tmp2, 4.0))"
   ]
  },
  {
   "cell_type": "markdown",
   "metadata": {},
   "source": [
    "## 4.4 기울기\n",
    "\n",
    "- 모든 편미분을 벡터로 정리한 것"
   ]
  },
  {
   "cell_type": "code",
   "execution_count": 26,
   "metadata": {},
   "outputs": [],
   "source": [
    "# 기울기 구현\n",
    "\n",
    "def numerical_gradient(f, x):  # f는 함수, x는 넘파이 배열\n",
    "    h = 1e-4\n",
    "    grad = np.zeros_like(x) # x와 형상이 같고 그 원소가 오두 0인 배열을 생성\n",
    "    \n",
    "    for idx in range(x.size):\n",
    "        tmp_val = x[idx]\n",
    "        \n",
    "        # f(x+h) 계산\n",
    "        x[idx] = tmp_val + h\n",
    "        fxh1 = f(x)\n",
    "        \n",
    "        # f(x-h) 계산\n",
    "        x[idx] = tmp_val - h\n",
    "        fxh2 = f(x)\n",
    "        \n",
    "        grad[idx] = (fxh1 - fxh2) / (2*h)\n",
    "        x[idx] = tmp_val # 값 복원\n",
    "        \n",
    "    return grad"
   ]
  },
  {
   "cell_type": "code",
   "execution_count": 27,
   "metadata": {},
   "outputs": [
    {
     "name": "stdout",
     "output_type": "stream",
     "text": [
      "[6. 8.]\n",
      "[0. 4.]\n",
      "[6. 0.]\n"
     ]
    }
   ],
   "source": [
    "print(numerical_gradient(function_2, np.array([3.0, 4.0])))\n",
    "print(numerical_gradient(function_2, np.array([0.0, 2.0])))\n",
    "print(numerical_gradient(function_2, np.array([3.0, 0.0])))"
   ]
  },
  {
   "cell_type": "markdown",
   "metadata": {},
   "source": [
    "- 기울가 가리키는 쪽은 각 장소에서 함수의 출력 값을 가장 크게 줄이는 방향\n",
    "\n",
    "### 4.4.1 경사법(경사 하강법)\n",
    "\n",
    "- 학습 시에 최적의 매개변수(가중치와 편향)을 찾아야함.  \n",
    "    (최적: 손실 함수가 최솟값이 될 때의 매개변수 값.)\n",
    "- 경사법: 기울기를 잘 이용해 함수의 최솟값(또는 가능한 작은 값)을 찾아내는 것  \n",
    "    그러나 기울기로 지표로 삼았을 때 기울기가 가리키는 방향이 정말 최솟값인지 주의해야 하며,  \n",
    "    실제로 복잡한 함수에서는 기울기가 가리키는 방향에 최솟값이 없는 경우가 대부분이다.  \n",
    "    (암수의 극솟값, 최솟값, 안정점 모두의 기울기가 0이기에 발생. 복잡하고 찌그러진 모양의 함수에서는 평평한 곳으로 파고들며 고원이라는 정체기에 빠질 수도 있음.)\n",
    "    \n",
    "- 경사법에서 최솟값을 찾는 것을 '경사 하강법', 최댓값을 찾는 것을 '경사 상승법'이라 한다.  \n",
    "    부호를 반전시키면 같은 문제이므로 본질적으로 다르지는 않지만 신경망 분야에서는 일반적으로 경사 하강법 사용.\n",
    "    \n",
    "- 학습률: 한 번의 학습으로 얼마만큼 학습해야 할지, 즉 매개변수 값을 얼마나 갱신하느냐를 정하는 것.  \n",
    "    변수가 여러개일 시에도 각 변수의 편미분 값을 이용하여 같은 식으로 갱신한다.  \n",
    "    학습률의 값은 0.01이나 0.001과 같이 미리 정해두어야 하며,  \n",
    "    그 값이 너무 크거나 작으면 '좋은 장소'를 찾아갈 수 없으므로 학습률을 변경해가며 올바르게 학습하는지 확인한다."
   ]
  },
  {
   "cell_type": "code",
   "execution_count": 22,
   "metadata": {},
   "outputs": [],
   "source": [
    "# 경사 하강법\n",
    "\n",
    "def gradient_descent(f, init_x, lr=0.01, step_num=100):\n",
    "    x = init_x\n",
    "    \n",
    "    for i in range(step_num):\n",
    "        grad = numerical_gradient(f, x)\n",
    "        x -= lr * grad\n",
    "    return x\n",
    "\n",
    "# f: 최적화하려는 함수, init_x: 초깃값, lr: learning rate(학습률), step_num: 경사법에 따른 반복 횟수\n",
    "# numerical_graient(f, x): 함수의 기울기 구하는 함수> 구해진 기울기에 학습률의 곱으로 갱신하는 처리를 step_num번 반복"
   ]
  },
  {
   "cell_type": "code",
   "execution_count": 25,
   "metadata": {},
   "outputs": [
    {
     "name": "stdout",
     "output_type": "stream",
     "text": [
      "[-6.11110793e-10  8.14814391e-10]\n"
     ]
    }
   ],
   "source": [
    "# 경사법으로 f(x0, x1) = x0^2 + x1^2의 최솟값 구하기\n",
    "\n",
    "import numpy as np\n",
    "\n",
    "def function_2(x):\n",
    "    return x[0]**2 + x[1]**2\n",
    "    \n",
    "init_x = np.array([-3.0, 4.0])\n",
    "print(gradient_descent(function_2, init_x = init_x, lr = 0.1, step_num = 100))"
   ]
  },
  {
   "cell_type": "code",
   "execution_count": 29,
   "metadata": {},
   "outputs": [
    {
     "name": "stdout",
     "output_type": "stream",
     "text": [
      "[-2.58983747e+13 -1.29524862e+12]\n",
      "[-2.99999994  3.99999992]\n"
     ]
    }
   ],
   "source": [
    "# 학습률이 너무 큰 예\n",
    "\n",
    "init_x = np.array([-3.0, 4.0])\n",
    "print(gradient_descent(function_2, init_x = init_x, lr = 10.0, step_num = 100))  # 너무 큰 값으로 발산.\n",
    "\n",
    "# 학습률이 너무 작은 예\n",
    "\n",
    "init_x = np.array([-3.0, 4.0])\n",
    "print(gradient_descent(function_2, init_x = init_x, lr = 1e-10, step_num = 100))  # 거의 갱신되지 않은 채로 끝남."
   ]
  },
  {
   "cell_type": "markdown",
   "metadata": {},
   "source": [
    "- 하이퍼파라미터: 사람이 직접 설정해야 하는 매개변수\n",
    "\n",
    "### 4.4.2 신경망에서의 기울기\n",
    "\n",
    "- 가중치와 경사(기울기)의 형상은 같다.\n",
    "\n",
    "## 4.5 학습 알고리즘 구현하기\n",
    "\n",
    "> 전제  \n",
    "\n",
    "신경망에는 적응 가능한 가중치와 편향이 있고, 이 가중치와 편향을 훈련 데이터에 적응하도록 조정하는 과정을 '학습'이란 한다.  \n",
    "> 학습 1단계: 미니배치  \n",
    "\n",
    "훈련 데이터 중 일부를 무작위로 가져온다. 이렇게 선별한 데이터를 미니배치라 하며, 그 미니배치의 손실 함수 값을 줄이는 것이 목표.  \n",
    "> 학습 2단계: 기울기 산출  \n",
    "\n",
    "미니배치의 손실 함수 값을 줄이기 위해 각 가중치 매개변수의 기울기를 구합니다. 기울기는 손실함수의 값을 가장 작게 하는 방향을 제시합니다.  \n",
    "> 학습 3단계: 매개변수 갱신  \n",
    "\n",
    "가중치 매개변수를 기울기 방향으로 아주 조금 갱신합니다.  \n",
    "> 학습 4단계: 반복  \n",
    "\n",
    "1~3단계를 반복합니다.\n",
    "\n",
    "- 경사하강법으로 매개변수를 갱신하는 방법이며, 이때, 데이터를 미니배치로 부작위로 선정하기 때문에 '확률적 경사 하강법'이라고 부름.\n",
    "- 대부분의 딥러닝 프레임워크는 확률적 경사 하강법의 영어 머리글자를 따 'SDG'라는 함수로 기능 구현.\n",
    "\n",
    "\n",
    "### 4.5.1 2층 신경망 클래스 구현하기\n"
   ]
  },
  {
   "cell_type": "code",
   "execution_count": null,
   "metadata": {},
   "outputs": [],
   "source": []
  }
 ],
 "metadata": {
  "kernelspec": {
   "display_name": "Python 3 (ipykernel)",
   "language": "python",
   "name": "python3"
  },
  "language_info": {
   "codemirror_mode": {
    "name": "ipython",
    "version": 3
   },
   "file_extension": ".py",
   "mimetype": "text/x-python",
   "name": "python",
   "nbconvert_exporter": "python",
   "pygments_lexer": "ipython3",
   "version": "3.9.12"
  },
  "vscode": {
   "interpreter": {
    "hash": "2b56d81be1da47737d30b70aa2710d8212e04ec4e94145155b43b9ead9b79838"
   }
  }
 },
 "nbformat": 4,
 "nbformat_minor": 2
}
