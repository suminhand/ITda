{
 "cells": [
  {
   "cell_type": "markdown",
   "id": "3766a5fc",
   "metadata": {},
   "source": [
    "# Chapter 2. 퍼셉트론\n",
    "\n",
    "* 신경망(딥러닝)의 기원이 되는 알고리즘.\n",
    "\n",
    "## 2.1 퍼셉트론이란?\n",
    "\n",
    "* 다수의 신호(1이나 0)를 입력으로 받아 하나의 신호를 출력.\n",
    "\n",
    "#### 퍼셉트론 동작원리\n",
    "(x1, x2 = 입력신호 y = 출력신호 w1, w2 = 가중치)\n",
    "* y = {0 (w1x1 + w2x2 ≤ θ), 1 (w1x1 + w2x2 > θ)}\n",
    "\n",
    "\n",
    "## 2.2 단순한 논리 회로\n",
    "### 2.2.1 AND 게이트\n",
    "(진리표 : 입력 신호와 출력 신호의 대응 표)\n",
    "* 입력이 둘이고 출력은 하나\n",
    "* 입력이 모두 1일 때만 1을 출력하고, 그 외에는 0을 출력.\n",
    "\n",
    "### 2.2.2 NAND 게이트와 OR 게이트\n",
    "\n",
    "* NAND = Not AND : AND 게이트의 출력을 뒤집은 것.\n",
    "* OR 게이트 : 입력 신호 중 아나 이상이 1이면 출력이 1이 되는 논리 회로.\n",
    "* 세 가지 게이트의 퍼셉트론 구조는 모두 같고, 매계변수(가중치와 임계값)만 다름. \n",
    "\n",
    "\n",
    "## 2.3 퍼셉트론 구현하기\n",
    "### 2.3.1 간단한 구현부터"
   ]
  },
  {
   "cell_type": "code",
   "execution_count": null,
   "id": "146999c2",
   "metadata": {},
   "outputs": [],
   "source": [
    "def AND(x1, x2) :\n",
    "    w1, w2, theta = 0.5, 0.5, 0.7\n",
    "    tmp = x1*w1 +x2*w2\n",
    "    if tmp <= theta :\n",
    "        return 0\n",
    "    elif tmp > theta :\n",
    "        return 1"
   ]
  },
  {
   "cell_type": "markdown",
   "id": "fe369e19",
   "metadata": {},
   "source": [
    "### 2.3.2 가중치와 편향 도입\n",
    "\n",
    "* 위의 퍼셉트론 동작원리의 식에서 θ를 -b로 바꾸면\n",
    "* y =  y = {0 (b + w1x1 + w2x2 ≤ 0), 1 (b + w1x1 + w2x2 > 0)}\n",
    "* 이 된다. (b =  편향)"
   ]
  },
  {
   "cell_type": "code",
   "execution_count": null,
   "id": "061997f1",
   "metadata": {
    "collapsed": true
   },
   "outputs": [],
   "source": [
    "import numpy as np\n",
    "\n",
    "x = np.array([0,1])\n",
    "w = np.array([0.5, 0.5])\n",
    "b = -0.7\n",
    "w*x\n",
    "np.sum(w*x)\n",
    "np.sum(w*x) + b"
   ]
  },
  {
   "cell_type": "markdown",
   "id": "b43b4193",
   "metadata": {},
   "source": [
    "### 2.3.3 가중치와 편향 구하기\n",
    "\n",
    "#### 가중치와 편향 도입한 AND 게이트"
   ]
  },
  {
   "cell_type": "code",
   "execution_count": null,
   "id": "d135a54a",
   "metadata": {},
   "outputs": [],
   "source": [
    "def AND(x1, x2):\n",
    "    x = np.array([x1, x2])\n",
    "    w = np.array([0.5, 0.5])\n",
    "    b = -0.7\n",
    "    tmp = np.sum(w*x) + b\n",
    "    if tmp <= 0:\n",
    "        return 0\n",
    "    else:\n",
    "        return 1"
   ]
  },
  {
   "cell_type": "markdown",
   "id": "efbd6f21",
   "metadata": {},
   "source": [
    "* w1과 w2는 각 입력 신호가 결과에 주는 영향력(중요도)을 조절하는 매개변수\n",
    "* 편향은 뉴런이 얼마나 쉽게 활성화(결과로 1 출력) 하느냐를 조정하는 매개변수\n",
    "\n",
    "#### NAND 게이트와 OR 게이트 구현"
   ]
  },
  {
   "cell_type": "code",
   "execution_count": null,
   "id": "1ba32cf8",
   "metadata": {},
   "outputs": [],
   "source": [
    "def NAND(x1, x2):\n",
    "    x = np.array([x1, x2])\n",
    "    w = np.array([-0.5, -0.5])\n",
    "    b = 0.7\n",
    "    tmp = np.sum(w*x) + b\n",
    "    if tmp <= 0:\n",
    "        return 0\n",
    "    else:\n",
    "        return 1\n",
    "    \n",
    "def OR(x1, x2):\n",
    "    x = np.array([x1, x2])\n",
    "    w = np.array([0.5, 0.5])\n",
    "    b = -0.2\n",
    "    tmp = np.sum(w*x) + b\n",
    "    if tmp <= 0:\n",
    "        return 0\n",
    "    else:\n",
    "        return 1"
   ]
  },
  {
   "cell_type": "markdown",
   "id": "9c1fea14",
   "metadata": {},
   "source": [
    "## 2.4 퍼셉트론의 한계\n",
    "\n",
    "### 2.4.1 도전! XOR 게이트\n",
    "\n",
    "* XOR 게이트: 베타적 논리합. x1과 x2 중 한쪽이 1일 때만 1 출력.\n",
    "* 퍼셉트론으로는 XOR게이트 구현 불가.\n",
    "\n",
    "###  2.4.2 선형과 비선형\n",
    "\n",
    "* 퍼셉트론은 직선 하나로 나눈 영역만 표현할 수 있다는 한계\n",
    "* (XOR 게이트는 곡선으로 나눌 필요)\n",
    "* (비선형 영역: 곡선의 영역, 선형 영역: 직선의 영역)\n",
    "\n",
    "## 2.5 다층 퍼셉트론이 출동한다면\n",
    "\n",
    "### 2.5.1 기존 게이트 조합하기\n",
    "\n",
    "* AND, NAND, OR 게이트를 조합하여(층을 쌓아서) XOR 게이트 구현 가능.\n",
    "\n",
    "### 2.5.2 XOR 게이트 구현하기"
   ]
  },
  {
   "cell_type": "code",
   "execution_count": null,
   "id": "234be16a",
   "metadata": {},
   "outputs": [],
   "source": [
    "def XOR(x1, x2):\n",
    "    si = NAND(x1, x2)\n",
    "    s2 = OR(x1, x2)\n",
    "    y = AND(s1, s2)\n",
    "    return y"
   ]
  }
 ],
 "metadata": {
  "kernelspec": {
   "display_name": "Python 3.10.7 64-bit (system)",
   "language": "python",
   "name": "python3"
  },
  "language_info": {
   "codemirror_mode": {
    "name": "ipython",
    "version": 3
   },
   "file_extension": ".py",
   "mimetype": "text/x-python",
   "name": "python",
   "nbconvert_exporter": "python",
   "pygments_lexer": "ipython3",
   "version": "3.10.7"
  },
  "vscode": {
   "interpreter": {
    "hash": "2b56d81be1da47737d30b70aa2710d8212e04ec4e94145155b43b9ead9b79838"
   }
  }
 },
 "nbformat": 4,
 "nbformat_minor": 5
}
