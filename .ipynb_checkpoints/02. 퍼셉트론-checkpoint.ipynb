{
 "cells": [
  {
   "cell_type": "markdown",
   "id": "3766a5fc",
   "metadata": {},
   "source": [
    "# Chapter 2. 퍼셉트론\n",
    "\n",
    "* 신경망(딥러닝)의 기원이 되는 알고리즘.\n",
    "\n",
    "## 2.1 퍼셉트론이란?\n",
    "\n",
    "* 다수의 신호(1이나 0)를 입력으로 받아 하나의 신호를 출력.\n",
    "\n",
    "#### 퍼셉트론 동작원리\n",
    "(x1, x2 = 입력신호 y = 출력신호 w1, w2 = 가중치)\n",
    "* y = {0 (w1x1 + w2x2 ≤ θ), 1 (w1x1 + w2x2 > θ)}\n",
    "\n",
    "\n",
    "## 2.2 단순한 논리 회로\n",
    "### 2.2.1 AND 게이트\n",
    "(진리표 : 입력 신호와 출력 신호의 대응 표)\n",
    "* 입력이 둘이고 출력은 하나\n",
    "* 입력이 모두 1일 때만 1을 출력하고, 그 외에는 0을 출력.\n",
    "\n",
    "### 2.2.2 NAND 게이트와 OR 게이트\n",
    "\n",
    "* NAND = Not AND : AND 게이트의 출력을 뒤집은 것.\n",
    "* OR 게이트 : 입력 신호 중 아나 이상이 1이면 출력이 1이 되는 논리 회로.\n",
    "\n",
    "\n",
    "##"
   ]
  },
  {
   "cell_type": "code",
   "execution_count": null,
   "id": "146999c2",
   "metadata": {},
   "outputs": [],
   "source": []
  }
 ],
 "metadata": {
  "kernelspec": {
   "display_name": "Python 3 (ipykernel)",
   "language": "python",
   "name": "python3"
  },
  "language_info": {
   "codemirror_mode": {
    "name": "ipython",
    "version": 3
   },
   "file_extension": ".py",
   "mimetype": "text/x-python",
   "name": "python",
   "nbconvert_exporter": "python",
   "pygments_lexer": "ipython3",
   "version": "3.9.12"
  }
 },
 "nbformat": 4,
 "nbformat_minor": 5
}
