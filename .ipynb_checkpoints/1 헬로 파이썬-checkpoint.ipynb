{
 "cells": [
  {
   "cell_type": "markdown",
   "id": "77560818",
   "metadata": {},
   "source": [
    "# 1.5 넘파이\n",
    "\n",
    "배열이나 행렬 계산을 위한 라이브러리\n",
    "\n",
    "## 1.5.2 넘파이 배열 생성하기\n",
    "\n",
    "### numpy.array\n",
    "\n",
    "넘파이 배열을 만들기 위한 특수 메서드\n",
    "(numpy.array라는 특수 메서드 반환)"
   ]
  },
  {
   "cell_type": "code",
   "execution_count": null,
   "id": "ecf1cabc",
   "metadata": {},
   "outputs": [],
   "source": [
    "import numpy as np #numpy를 np라는 이름으로 가져온다.\n",
    "\n",
    "x = np.array([1.0, 2.0, 3.0])\n",
    "print(x)\n",
    "type(x)"
   ]
  },
  {
   "cell_type": "markdown",
   "id": "a5ad9869",
   "metadata": {},
   "source": [
    "## 1.5.3 넘파이의 산술 연산\n",
    "\n",
    "배열 x와 y의 원소 수가 같다.\n",
    "산술 연산은 각 원소에 대해서 행해진다.\n",
    "원소별 계산 뿐 아니라 넘파이 배열과 스칼라(수치 하나) 간의 계산도 가능하다."
   ]
  },
  {
   "cell_type": "code",
   "execution_count": 4,
   "id": "21bf1105",
   "metadata": {},
   "outputs": [
    {
     "ename": "NameError",
     "evalue": "name 'np' is not defined",
     "output_type": "error",
     "traceback": [
      "\u001b[1;31m---------------------------------------------------------------------------\u001b[0m",
      "\u001b[1;31mNameError\u001b[0m                                 Traceback (most recent call last)",
      "Input \u001b[1;32mIn [4]\u001b[0m, in \u001b[0;36m<cell line: 1>\u001b[1;34m()\u001b[0m\n\u001b[1;32m----> 1\u001b[0m x \u001b[38;5;241m=\u001b[39m \u001b[43mnp\u001b[49m\u001b[38;5;241m.\u001b[39marray([\u001b[38;5;241m1.0\u001b[39m, \u001b[38;5;241m2.0\u001b[39m, \u001b[38;5;241m3.0\u001b[39m])\n\u001b[0;32m      2\u001b[0m y \u001b[38;5;241m=\u001b[39m np\u001b[38;5;241m.\u001b[39marray([\u001b[38;5;241m2.0\u001b[39m, \u001b[38;5;241m4.0\u001b[39m, \u001b[38;5;241m6.0\u001b[39m])\n\u001b[0;32m      3\u001b[0m \u001b[38;5;28mprint\u001b[39m(x \u001b[38;5;241m+\u001b[39m y)\n",
      "\u001b[1;31mNameError\u001b[0m: name 'np' is not defined"
     ]
    }
   ],
   "source": [
    "import numpy as np\n",
    "\n",
    "x = np.array([1.0, 2.0, 3.0])\n",
    "y = np.array([2.0, 4.0, 6.0])\n",
    "print(x + y)\n",
    "print(x - y)\n",
    "print(x * y)\n",
    "print(x / y)"
   ]
  },
  {
   "cell_type": "markdown",
   "id": "ff69881b",
   "metadata": {},
   "source": [
    "## 1.5.4 넘파이의 N차원 배열\n",
    "\n",
    "shape : 행렬(2차원 배열)의 행상을 알 수 있다\n",
    "dtype : 원소의 자료형을 알 수 있다."
   ]
  },
  {
   "cell_type": "code",
   "execution_count": null,
   "id": "e4fb9db6",
   "metadata": {},
   "outputs": [],
   "source": [
    "import numpy as np\n",
    "\n",
    "A = np.array([[1, 2], [3, 4]])\n",
    "print(A)\n",
    "\n",
    "print(A.shape)\n",
    "print(A.dtype)"
   ]
  },
  {
   "cell_type": "code",
   "execution_count": 5,
   "id": "b4c25ce5",
   "metadata": {},
   "outputs": [
    {
     "name": "stdout",
     "output_type": "stream",
     "text": [
      "[[1 2]\n",
      " [3 4]]\n"
     ]
    },
    {
     "data": {
      "text/plain": [
       "array([[10, 20],\n",
       "       [30, 40]])"
      ]
     },
     "execution_count": 5,
     "metadata": {},
     "output_type": "execute_result"
    }
   ],
   "source": [
    "import numpy as np\n",
    "\n",
    "A = np.array([[1, 2], [3, 4]])\n",
    "print(A)\n",
    "A*10"
   ]
  },
  {
   "cell_type": "markdown",
   "id": "dac3d73c",
   "metadata": {},
   "source": [
    "## 1.5.5 브로드캐스트\n",
    "\n",
    "형상이 다른 배열끼리의 계산도 가능하다."
   ]
  },
  {
   "cell_type": "code",
   "execution_count": 8,
   "id": "942c98a6",
   "metadata": {},
   "outputs": [
    {
     "data": {
      "text/plain": [
       "array([[10, 40],\n",
       "       [30, 80]])"
      ]
     },
     "execution_count": 8,
     "metadata": {},
     "output_type": "execute_result"
    }
   ],
   "source": [
    "import numpy as np\n",
    "\n",
    "A = np.array([[1, 2], [3, 4]])\n",
    "B = np.array([10, 20])\n",
    "A * B"
   ]
  },
  {
   "cell_type": "markdown",
   "id": "9aa146f8",
   "metadata": {},
   "source": [
    "## 1.5.6 원소 접근\n",
    "\n",
    "인데스를 배열로 지정해 한 번에 여러 원소에 접근 가능\n",
    "\n",
    "flatten : 1차원 배열로 변환(평탄화)"
   ]
  },
  {
   "cell_type": "code",
   "execution_count": 9,
   "id": "3eef9190",
   "metadata": {},
   "outputs": [
    {
     "name": "stdout",
     "output_type": "stream",
     "text": [
      "[51 55 14 19  0  4]\n"
     ]
    },
    {
     "data": {
      "text/plain": [
       "array([51, 14,  0])"
      ]
     },
     "execution_count": 9,
     "metadata": {},
     "output_type": "execute_result"
    }
   ],
   "source": [
    "import numpy as np\n",
    "\n",
    "x = np.array([[51, 55], [14, 19], [0, 4]])\n",
    "\n",
    "x = x.flatten()\n",
    "print(x)\n",
    "\n",
    "x[np.array([0, 2, 4])]"
   ]
  },
  {
   "cell_type": "code",
   "execution_count": null,
   "id": "a05efbd9",
   "metadata": {},
   "outputs": [],
   "source": [
    "import numpy as np\n",
    "\n",
    "x = np.array([[51, 55], [14, 19], [0, 4]])\n",
    "\n",
    "x > 15\n",
    "x[x>15]"
   ]
  },
  {
   "cell_type": "markdown",
   "id": "c287efb2",
   "metadata": {},
   "source": [
    "# 1.6 matplotlib\n",
    "\n",
    "그래프를 그려주는 라이브러리(그래프 그려주기, 데이터 시각화 가능)\n",
    "\n",
    "\n",
    "## 1.6.1 단순한 그래프 그리기\n",
    "\n",
    "pyplot 모듈 : 그래프 그리기 위한 matplotlib의 모듈\n",
    "\n",
    "arange(a, b, c) : a에서 b까지 c간격으로 데이터 생성\n",
    "sin(x) : sin 함수로 x 계산.\n",
    "show : 그래프 화면에 출력"
   ]
  },
  {
   "cell_type": "code",
   "execution_count": null,
   "id": "85f430cd",
   "metadata": {},
   "outputs": [],
   "source": [
    "import numpy as np\n",
    "import matplotlib.pyplot as plt\n",
    "\n",
    "x = np.arrange(0, 6, 0.1)\n",
    "y = np.sin\n",
    "\n",
    "plt.plot(x, y)\n",
    "plt.show()"
   ]
  },
  {
   "cell_type": "markdown",
   "id": "15662147",
   "metadata": {},
   "source": [
    "## 1.6.2 pyplot 기능\n",
    "\n",
    "plot(x, y, linestyle = \"--\", label = \"a\") : --을 선 모양으로 그리기. 이 함수의 이름은 a\n",
    "xlabel : x축 이름 표시\n",
    "title : 그래프 제목"
   ]
  },
  {
   "cell_type": "code",
   "execution_count": null,
   "id": "061e11d8",
   "metadata": {},
   "outputs": [],
   "source": [
    "import numpy as np\n",
    "import matplotlib.pyplot as plt\n",
    "\n",
    "x = np.arange(0, 6, 0.1)\n",
    "y1 = np.sin(x)\n",
    "y2 = np.cos(x)\n",
    "\n",
    "plt.plot(x, y1, label = \"sin\")\n",
    "plt.plot(x, y2, linestyle = \"--\", label = \"cos\")\n",
    "plt.xlabel(\"x\")\n",
    "plt.ylabel(\"y\")\n",
    "plt.title('sin & cos')\n",
    "plt.legend()\n",
    "plt.show()"
   ]
  },
  {
   "cell_type": "markdown",
   "id": "177bb2e7",
   "metadata": {},
   "source": [
    "## 1.6.3 이미지 표시하기\n",
    "\n",
    "imshow : pyplot의 이미지를 표시해 주는 메서드\n",
    "imread : 이미지를 읽을 수 있는 matplotlib.img 모듈의 메서드"
   ]
  },
  {
   "cell_type": "code",
   "execution_count": null,
   "id": "76ee87aa",
   "metadata": {},
   "outputs": [],
   "source": [
    "import matplotlib.pyplot as plt\n",
    "from matplotlib.image import imread\n",
    "\n",
    "img = imread('#') # 경로 설정\n",
    "\n",
    "plt.imshow(img)\n",
    "plt.show()"
   ]
  }
 ],
 "metadata": {
  "kernelspec": {
   "display_name": "Python 3 (ipykernel)",
   "language": "python",
   "name": "python3"
  },
  "language_info": {
   "codemirror_mode": {
    "name": "ipython",
    "version": 3
   },
   "file_extension": ".py",
   "mimetype": "text/x-python",
   "name": "python",
   "nbconvert_exporter": "python",
   "pygments_lexer": "ipython3",
   "version": "3.9.12"
  }
 },
 "nbformat": 4,
 "nbformat_minor": 5
}
