{
 "cells": [
  {
   "cell_type": "markdown",
   "id": "bf553855",
   "metadata": {},
   "source": [
    "# Chepter 3. 신경망\n",
    "\n",
    "* 퍼셉트론에서 가중치는 수동 작업 필요\n",
    "* 신경망은 가중치 매개변수의 적절한 값을 데이터로부터 자동으로 학습하는 능력 가짐.\n",
    "\n",
    "## 3.1 퍼셉트론에서 신경망으로\n",
    "### 3.1.1 신경망의 예\n",
    "\n",
    "* 구성: 입력층 / 출력층 / 은닉층(사람 눈에 보이지 않음.)\n",
    "\n",
    "### 3.1.3 활성화 함수의 등장\n",
    "\n",
    "* 활성화 함수: 입력 신호의 총합을 출력 신호로 변화하는 함수(h(x))\n",
    "* a = b + w1x1 + w2x2\n",
    "* y = h(a)\n",
    "\n",
    "## 3.2 활성화 함수\n",
    "\n",
    "* 계단 함수: 임계값을 경계로 출력이 바뀌는 함수. (ex. 퍼셉트론)\n",
    "\n",
    "### 3.2.1 시그모이드 함수\n",
    "\n",
    "* 신경망에서 자주 이용하는 활성화 함수\n",
    "* h(x) = 1 / (1 + exp(-x))\n",
    "\n",
    "### 3.2.2 계단 함수 구현하기"
   ]
  },
  {
   "cell_type": "code",
   "execution_count": 1,
   "id": "06e1659e",
   "metadata": {},
   "outputs": [],
   "source": [
    "def step_function(x):\n",
    "    if x > 0:\n",
    "        return 1\n",
    "    else:\n",
    "        return 0"
   ]
  },
  {
   "cell_type": "code",
   "execution_count": 2,
   "id": "ea53cd3c",
   "metadata": {},
   "outputs": [],
   "source": [
    "# 넘파이 배열을 지원하도록 수정.\n",
    "\n",
    "def step_function(x):\n",
    "    y = x > 0\n",
    "    return y.astype(np.int)"
   ]
  },
  {
   "cell_type": "code",
   "execution_count": 3,
   "id": "117608ca",
   "metadata": {},
   "outputs": [
    {
     "data": {
      "text/plain": [
       "array([False,  True,  True])"
      ]
     },
     "execution_count": 3,
     "metadata": {},
     "output_type": "execute_result"
    }
   ],
   "source": [
    "import numpy as np\n",
    "\n",
    "x = np.array([-1.0, 1.0, 2.0])\n",
    "x\n",
    "y = x > 0 # 넘파이 배열에 부등호 연사 수행 시, 배열의 원소 각각에 부등호 연산을 수행한 bool 배열 생성.\n",
    "y"
   ]
  },
  {
   "cell_type": "code",
   "execution_count": 4,
   "id": "bfec9102",
   "metadata": {},
   "outputs": [
    {
     "name": "stderr",
     "output_type": "stream",
     "text": [
      "C:\\Users\\82108\\AppData\\Local\\Temp\\ipykernel_20924\\4029091772.py:1: DeprecationWarning: `np.int` is a deprecated alias for the builtin `int`. To silence this warning, use `int` by itself. Doing this will not modify any behavior and is safe. When replacing `np.int`, you may wish to use e.g. `np.int64` or `np.int32` to specify the precision. If you wish to review your current use, check the release note link for additional information.\n",
      "Deprecated in NumPy 1.20; for more details and guidance: https://numpy.org/devdocs/release/1.20.0-notes.html#deprecations\n",
      "  y = y.astype(np.int) # astype() : 넘파이 배열의 자료형 변환\n"
     ]
    },
    {
     "data": {
      "text/plain": [
       "array([0, 1, 1])"
      ]
     },
     "execution_count": 4,
     "metadata": {},
     "output_type": "execute_result"
    }
   ],
   "source": [
    "y = y.astype(np.int) # astype() : 넘파이 배열의 자료형 변환\n",
    "y"
   ]
  },
  {
   "cell_type": "markdown",
   "id": "a588a94c",
   "metadata": {},
   "source": [
    "### 3.2.3 계단 함수의 그래프"
   ]
  },
  {
   "cell_type": "code",
   "execution_count": 5,
   "id": "8542a4aa",
   "metadata": {},
   "outputs": [
    {
     "name": "stderr",
     "output_type": "stream",
     "text": [
      "C:\\Users\\82108\\AppData\\Local\\Temp\\ipykernel_20924\\1063837979.py:5: DeprecationWarning: `np.int` is a deprecated alias for the builtin `int`. To silence this warning, use `int` by itself. Doing this will not modify any behavior and is safe. When replacing `np.int`, you may wish to use e.g. `np.int64` or `np.int32` to specify the precision. If you wish to review your current use, check the release note link for additional information.\n",
      "Deprecated in NumPy 1.20; for more details and guidance: https://numpy.org/devdocs/release/1.20.0-notes.html#deprecations\n",
      "  return np.array(x > 0, dtype = np.int)\n"
     ]
    },
    {
     "data": {
      "image/png": "[encoded data removed]",
      "text/plain": [
       "<Figure size 432x288 with 1 Axes>"
      ]
     },
     "metadata": {
      "needs_background": "light"
     },
     "output_type": "display_data"
    }
   ],
   "source": [
    "import numpy as np\n",
    "import matplotlib.pylab as plt\n",
    "\n",
    "def step_function(x):\n",
    "    return np.array(x > 0, dtype = np.int)\n",
    "\n",
    "x = np.arange(-5.0, 5.0, 0.1)\n",
    "y = step_function(x)\n",
    "plt.plot(x, y)\n",
    "plt.ylim(-0.1, 1.1) # y축 범위 지정\n",
    "plt.show()"
   ]
  },
  {
   "cell_type": "markdown",
   "id": "d55715c1",
   "metadata": {},
   "source": [
    "### 3.2.4 시그모이드 함수 구현하기"
   ]
  },
  {
   "cell_type": "code",
   "execution_count": 6,
   "id": "eb58eccf",
   "metadata": {},
   "outputs": [
    {
     "data": {
      "text/plain": [
       "array([0.26894142, 0.73105858, 0.88079708])"
      ]
     },
     "execution_count": 6,
     "metadata": {},
     "output_type": "execute_result"
    }
   ],
   "source": [
    "def sigmoid(x):\n",
    "    return 1 / (1 + np.exp(-x))\n",
    "\n",
    "x = np.array([-1.0, 1.0, 2.0])\n",
    "sigmoid(x)"
   ]
  },
  {
   "cell_type": "markdown",
   "id": "613ccfe6",
   "metadata": {},
   "source": [
    "* 브로드캐스트 기능: 넘파이 배열과 스칼라값의 연산을 넘파이 배열의 원소 각각과 스칼라값의 연산으로 바꿔 수행하는 것."
   ]
  },
  {
   "cell_type": "code",
   "execution_count": 7,
   "id": "4cbf6647",
   "metadata": {},
   "outputs": [
    {
     "data": {
      "text/plain": [
       "array([1.        , 0.5       , 0.33333333])"
      ]
     },
     "execution_count": 7,
     "metadata": {},
     "output_type": "execute_result"
    }
   ],
   "source": [
    "# 브로드캐스트 예시\n",
    "\n",
    "t = np.array([1.0, 2.0, 3.0])\n",
    "1.0 + t\n",
    "1.0/t"
   ]
  },
  {
   "cell_type": "code",
   "execution_count": 8,
   "id": "01c842d5",
   "metadata": {},
   "outputs": [
    {
     "data": {
      "image/png": "[encoded data removed]",
      "text/plain": [
       "<Figure size 432x288 with 1 Axes>"
      ]
     },
     "metadata": {
      "needs_background": "light"
     },
     "output_type": "display_data"
    }
   ],
   "source": [
    "#시그모이드 함수\n",
    "\n",
    "x = np.arange(-5.0, 5.0, 0.1)\n",
    "y = sigmoid(x)\n",
    "plt.plot(x, y)\n",
    "plt.ylim(-0.1, 1.1)\n",
    "plt.show()"
   ]
  },
  {
   "cell_type": "markdown",
   "id": "1f4167fb",
   "metadata": {},
   "source": [
    "### 3.2.5 시그모이드 함수와 계단 함수 비교\n",
    "\n",
    "> 차이점  \n",
    "   * 시그모이드: 출력 연속적 변화(매끈함) / 계단: 0을 경계로 갑작스러운 변화\n",
    "   * 시그모이드: 실수 값 반환 / 계단: 0 또는 1만 반환\n",
    "    \n",
    ">공통점  \n",
    "   * 입력이 중요 - 큰 값 출력, 입력 중요치 않음 - 작은 값 출력\n",
    "   * 어떤 입력값을 받더라도 출력은 0 ~ 1 사이.\n",
    "   * 비선형 함수\n",
    "   \n",
    "### 3.2.6 비선형 함수\n",
    "\n",
    "- 비선형 함수 사용 이유:  \n",
    "선형함수는 층을 아무리 깊게 해도 '은닉층이 없는 네트워크'로도 똑같은 기능을 할 수 있다.  \n",
    "즉, 층을 쌓는 이점을 전혀 살릴 수가 없다.\n",
    "\n",
    "### 3.2.7 ReLU 함수\n",
    "\n",
    "- 최근 신경망 분야에서 활용하는 활성화 함수.\n",
    "- 입력 > 0: 그대로 출력. 입력 <= 0: 0 출력\n",
    "\n",
    "#### 수식\n",
    "h(x) = {x (x > 0), 0 (x <= 0)}"
   ]
  },
  {
   "cell_type": "code",
   "execution_count": 9,
   "id": "f6181ccb",
   "metadata": {},
   "outputs": [],
   "source": [
    "def relu(x):\n",
    "    return ap.maximum(0, x) # maximum(): 두 입력 중 큰 값 선택해 반환."
   ]
  },
  {
   "cell_type": "markdown",
   "id": "4367450b",
   "metadata": {},
   "source": [
    "## 3.3 다차원 배열의 계산\n",
    "\n",
    "### 3.3.1 다차원 배열\n",
    "\n",
    "- 다차원 배열: 숫자열 N차원으로 나열하는 것."
   ]
  },
  {
   "cell_type": "code",
   "execution_count": 10,
   "id": "9fb91d14",
   "metadata": {},
   "outputs": [
    {
     "name": "stdout",
     "output_type": "stream",
     "text": [
      "[1 2 3 4]\n"
     ]
    },
    {
     "data": {
      "text/plain": [
       "4"
      ]
     },
     "execution_count": 10,
     "metadata": {},
     "output_type": "execute_result"
    }
   ],
   "source": [
    "#1차원 배열\n",
    "\n",
    "import numpy as np\n",
    "\n",
    "A = np.array([1, 2, 3, 4])\n",
    "print(A)\n",
    "\n",
    "np.ndim(A) # 배열의 차원 수\n",
    "A.shape    # 배열의 형상\n",
    "A.shape[0]"
   ]
  },
  {
   "cell_type": "code",
   "execution_count": 11,
   "id": "4993966f",
   "metadata": {},
   "outputs": [
    {
     "name": "stdout",
     "output_type": "stream",
     "text": [
      "[[1 2]\n",
      " [3 4]\n",
      " [5 6]]\n"
     ]
    },
    {
     "data": {
      "text/plain": [
       "(3, 2)"
      ]
     },
     "execution_count": 11,
     "metadata": {},
     "output_type": "execute_result"
    }
   ],
   "source": [
    "#2차원(행렬- 가로: 행, 세로: 열)\n",
    "\n",
    "B = np.array([[1,2], [3, 4], [5, 6]])\n",
    "print(B)\n",
    "np.ndim(B)\n",
    "B.shape"
   ]
  },
  {
   "cell_type": "markdown",
   "id": "4e37ac04",
   "metadata": {},
   "source": [
    "### 3.3.2 행렬의 곱\n",
    "\n",
    "- 2차원 배열:  \n",
    "왼쪽 행렬의 행과 오른쪽 행렬의 열을 원소별으로 곱하고 그 값들을 더하여 계산.(p.79 참조)  \n",
    "피연산자의 순서가 다르면 결과도 달라진다."
   ]
  },
  {
   "cell_type": "code",
   "execution_count": 12,
   "id": "4708c06c",
   "metadata": {},
   "outputs": [
    {
     "data": {
      "text/plain": [
       "array([[19, 22],\n",
       "       [43, 50]])"
      ]
     },
     "execution_count": 12,
     "metadata": {},
     "output_type": "execute_result"
    }
   ],
   "source": [
    "A = np.array([[1, 2], [3, 4]])\n",
    "A.shape\n",
    "B = np.array([[5, 6],[7, 8]])\n",
    "B.shape\n",
    "np.dot(A, B) # 두 배열 곱을 계산하는 함수\n",
    "             # 1차원 배열: 백터, 2차원 배열: 행렬 곱 계산."
   ]
  },
  {
   "cell_type": "code",
   "execution_count": 13,
   "id": "fa2b7e27",
   "metadata": {},
   "outputs": [
    {
     "name": "stdout",
     "output_type": "stream",
     "text": [
      "(2, 3)\n",
      "(3, 2)\n"
     ]
    },
    {
     "data": {
      "text/plain": [
       "'\\nC = np.array([[1, 2], [3, 4]])\\nprint(C.shape)\\n\\nnp.dot(A, C)\\n의 경우에는 오류가 난다.\\n'"
      ]
     },
     "execution_count": 13,
     "metadata": {},
     "output_type": "execute_result"
    }
   ],
   "source": [
    "import numpy as np\n",
    "\n",
    "A = np.array([[1, 2, 3],[4, 5, 6]])\n",
    "print(A.shape)\n",
    "B = np.array([[1, 2], [3, 4], [5, 6]])\n",
    "print(B.shape)\n",
    "\n",
    "np.dot(A,B)\n",
    "\n",
    "'''\n",
    "C = np.array([[1, 2], [3, 4]])\n",
    "print(C.shape)\n",
    "\n",
    "np.dot(A, C)\n",
    "의 경우에는 오류가 난다.\n",
    "'''"
   ]
  },
  {
   "cell_type": "markdown",
   "id": "a130d8fa",
   "metadata": {},
   "source": [
    "위처럼 형상이 다른 행렬의 곱을 할 시에는 '행렬의 형상'에 주의하여야 한다.  \n",
    "즉, 행렬 A의 열 수와 행렬 B의 행 수가 같아야 한다.  \n",
    "계산 결과 만들어지는 행렬의 형상은 (A의 행 수, B의 열 수)가 된다."
   ]
  },
  {
   "cell_type": "code",
   "execution_count": 14,
   "id": "f8b5dd16",
   "metadata": {},
   "outputs": [
    {
     "name": "stdout",
     "output_type": "stream",
     "text": [
      "(3, 2)\n",
      "(2,)\n"
     ]
    },
    {
     "data": {
      "text/plain": [
       "array([23, 53, 83])"
      ]
     },
     "execution_count": 14,
     "metadata": {},
     "output_type": "execute_result"
    }
   ],
   "source": [
    "# 1차원의 경우(형상: 2x3  2  => 3)\n",
    "\n",
    "A = np.array([[1, 2], [3, 4], [5, 6]])\n",
    "print(A.shape)\n",
    "B = np.array([7, 8])\n",
    "print(B.shape)\n",
    "\n",
    "np.dot(A, B)"
   ]
  },
  {
   "cell_type": "markdown",
   "id": "4eb5bfd2",
   "metadata": {},
   "source": [
    "### 3.3.3 신경망에서의 행렬 곱\n",
    "\n",
    "\n",
    "## 3.4 3층 신경망 구현하기\n",
    "\n",
    "### 3.4.2 각 층의 신호 전달 구현하기"
   ]
  },
  {
   "cell_type": "code",
   "execution_count": 20,
   "id": "9e908931",
   "metadata": {},
   "outputs": [
    {
     "name": "stdout",
     "output_type": "stream",
     "text": [
      "(2, 3)\n",
      "(2,)\n",
      "(3,)\n",
      "[0.3 0.7 1.1]\n",
      "[0.57444252 0.66818777 0.75026011]\n"
     ]
    }
   ],
   "source": [
    "# 신경망 1층의 가중치 부분 나타내기 + 활성화 함수 처리\n",
    "\n",
    "import numpy as np\n",
    "\n",
    "X = np.array([1.0, 0.5])\n",
    "W1 = np.array([[0.1, 0.3, 0.5], [0.2, 0.4, 0.6]])\n",
    "B1 = np.array([0.1, 0.2, 0.3])\n",
    "\n",
    "print(W1.shape)\n",
    "print(X.shape)\n",
    "print(B1.shape)\n",
    "\n",
    "A1 = np.dot(X, W1) + B1\n",
    "\n",
    "print(A1)\n",
    "\n",
    "Z1 = sigmoid(A1)\n",
    "\n",
    "print(Z1)"
   ]
  },
  {
   "cell_type": "code",
   "execution_count": 21,
   "id": "319058f6",
   "metadata": {},
   "outputs": [
    {
     "name": "stdout",
     "output_type": "stream",
     "text": [
      "(3,)\n",
      "(3, 2)\n",
      "(2,)\n"
     ]
    }
   ],
   "source": [
    "# 2층으로\n",
    "\n",
    "import numpy as np\n",
    "\n",
    "W2 = np.array([[0.1, 0.4], [0.2, 0.5], [0.3, 0.6]])\n",
    "B2 = np.array([0.1, 0.2])\n",
    "\n",
    "print(Z1.shape)\n",
    "print(W2.shape)\n",
    "print(B2.shape)\n",
    "\n",
    "A2 = np.dot(Z1, W2) + B2\n",
    "Z2 = sigmoid(A2)\n",
    "\n",
    "'''1층과 2층의 구현방식은 같다.'''"
   ]
  },
  {
   "cell_type": "code",
   "execution_count": 23,
   "id": "634a7876",
   "metadata": {},
   "outputs": [],
   "source": [
    "# 출력층으로\n",
    "\n",
    "import numpy as np\n",
    "\n",
    "def identity_function(x):\n",
    "    return x\n",
    "\n",
    "W3 = np.array([[0.1, 0.3], [0.2, 0.4]])\n",
    "B3 = np.array([0.1, 0.2])\n",
    "\n",
    "A3 = np.dot(Z2, W3) + B3\n",
    "Y = identity_function(A3)"
   ]
  },
  {
   "cell_type": "markdown",
   "id": "86a2b4c5",
   "metadata": {},
   "source": [
    "- 출력층  \n",
    "항등 함수인 identity_function 정의 > 출력층의 활성화 함수로 이용.(굳이 만들필요는 없으나 흐름 통일 위해 구현.)  \n",
    "활성화 함수를 그전까지 정의 해 온 h()와는 다르게 시그마를 이용하여 정의.\n",
    "\n",
    "### 3.4.3 구현 정리\n",
    "  \n",
    "(신경망의 관례: 가중치만 대문자(W1), 편향과 중간 결과 등은 소문자)"
   ]
  },
  {
   "cell_type": "code",
   "execution_count": 28,
   "id": "07c4f310",
   "metadata": {},
   "outputs": [
    {
     "name": "stdout",
     "output_type": "stream",
     "text": [
      "[0.31682708 0.69627909]\n"
     ]
    }
   ],
   "source": [
    "def init_network():          # 가중치와 편향 초기화> 딕셔너리 변수인 network에 저장> network에는 각 층에 필요한 매개변수 저장\n",
    "    network = {}\n",
    "    network['W1'] = np.array([[0.1, 0.3, 0.5], [0.2, 0.4, 0.6]])\n",
    "    network['b1'] = np.array([0.1, 0.2, 0.3])\n",
    "    network['W2'] = np.array([[0.1, 0.4], [0.2, 0.5], [0.3, 0.6]])\n",
    "    network['b2'] = np.array([0.1, 0.2])\n",
    "    network['W3'] = np.array([[0.1, 0.3], [0.2, 0.4]])\n",
    "    network['b3'] = np.array([0.1, 0.2])\n",
    "    \n",
    "    return network\n",
    "\n",
    "def forward(network, x):    # 입력신호를 출력으로 변환하는 처리 과정 모두 구현(순방량)\n",
    "    W1, W2, W3 = network['W1'], network['W2'], network['W3']\n",
    "    b1, b2, b3 = network['b1'], network['b2'], network['b3']\n",
    "    \n",
    "    a1 = np.dot(x, W1) + b1\n",
    "    z1 = sigmoid(a1)\n",
    "    a2 = np.dot(z1, W2) + b2\n",
    "    z2 = sigmoid(a2)\n",
    "    a3 = np.dot(z2, W3) + b3\n",
    "    y = identity_function(a3)\n",
    "    \n",
    "    return y\n",
    "\n",
    "network = init_network()\n",
    "x = np.array([1.0, 0.5])\n",
    "y = forward(network, x)\n",
    "print(y)"
   ]
  },
  {
   "cell_type": "markdown",
   "id": "f6a5711c",
   "metadata": {},
   "source": [
    "## 출력층 설계하기\n",
    "\n",
    "- 신경망은 분류와 회귀 모두에 사용할 수 있음.(문제에 다라 출력층에서 사용하는 함수 달라짐.)\n",
    "- 출력층에 사용하는 함수는 일반적으로 회귀에는 항등 함수, 분류에는 소프트맥스 함수 사용.  \n",
    "(분류: 데이터가 어느 클레스에 속하는지/ 회귀: 입력 데이터에서 (연속적인) 수치 예측)\n",
    "\n",
    "### 3.5.1 항등 함수와 소프트맥스 함수 구현하기\n",
    "\n",
    "- 항등 함수: 입력 그대로 출력(입력 = 출력)\n",
    "- 소프트맥스 함수\n",
    "> y_k=  (exp⁡(a_k))/(∑_(i=1)^n▒〖exp⁡(a_i)〗)\n",
    "\n",
    "(exp(x): e^x를 뜻하는 지수함수/ n: 출력층의 뉴런 수/ y_k: 그 중 k번째 출력 >> 분자: 입력 신호 a_k의 지수함수/ 분모: 모든 입력 신호의 지수함수의 합)\n",
    "- 출력층의 각 뉴언이 모든 입력 신호에서 영향을 받음."
   ]
  },
  {
   "cell_type": "code",
   "execution_count": 30,
   "id": "15caeb24",
   "metadata": {},
   "outputs": [
    {
     "name": "stdout",
     "output_type": "stream",
     "text": [
      "[ 1.34985881 18.17414537 54.59815003]\n",
      "74.1221542101633\n",
      "[0.01821127 0.24519181 0.73659691]\n"
     ]
    }
   ],
   "source": [
    "# 소프트맥스 함수 구현\n",
    "\n",
    "import numpy as np\n",
    "\n",
    "a = np.array([0.3, 2.9, 4.0])\n",
    "\n",
    "exp_a = np.exp(a)\n",
    "print(exp_a)\n",
    "\n",
    "sum_exp_a = np.sum(exp_a)\n",
    "print(sum_exp_a)\n",
    "\n",
    "y = exp_a / sum_exp_a\n",
    "print(y)"
   ]
  },
  {
   "cell_type": "code",
   "execution_count": 31,
   "id": "316584d9",
   "metadata": {},
   "outputs": [],
   "source": [
    "# 소프트맥스 함수 정의\n",
    "\n",
    "def softmax(a):\n",
    "    exp_a = np.exp(a)\n",
    "    sum_exp_a = np.sum(exp_a)\n",
    "    y = exp_a / sum_exp_a\n",
    "    \n",
    "    return y"
   ]
  },
  {
   "cell_type": "markdown",
   "id": "fb0b3179",
   "metadata": {},
   "source": [
    "### 3.5.2 소프트맥스 함수 구현 시 주의점\n",
    "\n",
    "- 앞서 정의한 함수는 오버플로의 문제를 가짐.(지수 함수가 지나치게 큰 값을 내뱉을 경우 값이 '불안정'해짐.)\n",
    "- 소프트맥스의 지수 함수를 계산할 때 어떤 정수를 더하거나 빼도 결과는 바뀌지 않음.(일반적으로 최댓값 이용)"
   ]
  },
  {
   "cell_type": "code",
   "execution_count": 33,
   "id": "3a16900e",
   "metadata": {},
   "outputs": [
    {
     "name": "stdout",
     "output_type": "stream",
     "text": [
      "[nan nan nan]\n",
      "[  0 -10 -20]\n",
      "[9.99954600e-01 4.53978686e-05 2.06106005e-09]\n"
     ]
    },
    {
     "name": "stderr",
     "output_type": "stream",
     "text": [
      "C:\\Users\\82108\\AppData\\Local\\Temp\\ipykernel_20924\\2027439628.py:4: RuntimeWarning: overflow encountered in exp\n",
      "  print(np.exp(a) / np.sum(np.exp(a)))\n",
      "C:\\Users\\82108\\AppData\\Local\\Temp\\ipykernel_20924\\2027439628.py:4: RuntimeWarning: invalid value encountered in true_divide\n",
      "  print(np.exp(a) / np.sum(np.exp(a)))\n"
     ]
    }
   ],
   "source": [
    "import numpy as np\n",
    "\n",
    "a = np.array([1010, 1000, 990])\n",
    "print(np.exp(a) / np.sum(np.exp(a)))\n",
    "\n",
    "c = np.max(a)\n",
    "print(a - c)\n",
    "\n",
    "print(np.exp(a - c) / np.sum(np.exp(a - c)))"
   ]
  },
  {
   "cell_type": "code",
   "execution_count": 34,
   "id": "dd4dbc98",
   "metadata": {},
   "outputs": [],
   "source": [
    "# 다시 구현하는 소프트맥스 함수\n",
    "\n",
    "def softmax(a):\n",
    "    c = np.max(a)\n",
    "    exp_a = np.exp(a - c)    # 오버플로 대책\n",
    "    sum_exp_a = np.sum(exp_a)\n",
    "    y = exp_a / sum_exp_a\n",
    "    \n",
    "    return y"
   ]
  },
  {
   "cell_type": "markdown",
   "id": "ed786d6f",
   "metadata": {},
   "source": [
    "###  3.5.3 소프트맥스 함수의 특징\n",
    "\n",
    "- 출력: 0~1.0 사이의 실수.\n",
    "- 출력의 총합은 1 !! > 이 덕에 '확률'로 해석 가능\n"
   ]
  }
 ],
 "metadata": {
  "kernelspec": {
   "display_name": "Python 3 (ipykernel)",
   "language": "python",
   "name": "python3"
  },
  "language_info": {
   "codemirror_mode": {
    "name": "ipython",
    "version": 3
   },
   "file_extension": ".py",
   "mimetype": "text/x-python",
   "name": "python",
   "nbconvert_exporter": "python",
   "pygments_lexer": "ipython3",
   "version": "3.9.12"
  },
  "vscode": {
   "interpreter": {
    "hash": "2b56d81be1da47737d30b70aa2710d8212e04ec4e94145155b43b9ead9b79838"
   }
  }
 },
 "nbformat": 4,
 "nbformat_minor": 5
}
