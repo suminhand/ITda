{
 "cells": [
  {
   "cell_type": "code",
   "execution_count": 1,
   "id": "9b842444",
   "metadata": {},
   "outputs": [
    {
     "name": "stdout",
     "output_type": "stream",
     "text": [
      "2\n",
      "2 4 6 8 10 12 14 16 18 "
     ]
    }
   ],
   "source": [
    "# 숫자 입력하면 그 단의 구구단 결과 출력하기\n",
    "\n",
    "num = int(input())\n",
    "\n",
    "for i in range(1, 10):\n",
    "    print(num * i, end= ' ')"
   ]
  },
  {
   "cell_type": "code",
   "execution_count": 3,
   "id": "641900de",
   "metadata": {},
   "outputs": [
    {
     "name": "stdout",
     "output_type": "stream",
     "text": [
      "1\n",
      "100\n",
      "901\n"
     ]
    }
   ],
   "source": [
    "# 일렬로 놓인 숫자의 각 자릿수 합 구하기\n",
    "\n",
    "fir_num = int(input())\n",
    "last_num = int(input())\n",
    "\n",
    "sum_num = 0\n",
    "\n",
    "for i in range(fir_num, last_num + 1):\n",
    "    if i == 100:\n",
    "        sum_num = sum_num + 1\n",
    "    else:\n",
    "        sum_num = sum_num + i//10 + i%10\n",
    "\n",
    "print(sum_num)"
   ]
  }
 ],
 "metadata": {
  "kernelspec": {
   "display_name": "Python 3 (ipykernel)",
   "language": "python",
   "name": "python3"
  },
  "language_info": {
   "codemirror_mode": {
    "name": "ipython",
    "version": 3
   },
   "file_extension": ".py",
   "mimetype": "text/x-python",
   "name": "python",
   "nbconvert_exporter": "python",
   "pygments_lexer": "ipython3",
   "version": "3.9.12"
  }
 },
 "nbformat": 4,
 "nbformat_minor": 5
}
