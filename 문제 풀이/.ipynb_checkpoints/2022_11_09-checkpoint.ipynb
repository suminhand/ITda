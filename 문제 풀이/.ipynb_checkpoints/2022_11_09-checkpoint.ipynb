{
 "cells": [
  {
   "cell_type": "code",
   "execution_count": 7,
   "id": "f3d8d6d3",
   "metadata": {},
   "outputs": [
    {
     "name": "stdout",
     "output_type": "stream",
     "text": [
      "AAABBBcccddd\n",
      "aaabbbCCCDDD\n"
     ]
    }
   ],
   "source": [
    "# 대소문자 바꿔서 출력하기\n",
    "\n",
    "a = input()\n",
    "b = a.upper()\n",
    "\n",
    "ex = ''\n",
    "\n",
    "for i in range(len(a)):\n",
    "    if a[i] == b[i]:\n",
    "        ex += a[i].lower()\n",
    "    else:\n",
    "        ex += a[i].upper()\n",
    "\n",
    "print(ex)"
   ]
  },
  {
   "cell_type": "code",
   "execution_count": 20,
   "id": "98dae13b",
   "metadata": {},
   "outputs": [
    {
     "name": "stdout",
     "output_type": "stream",
     "text": [
      "1\n",
      "No\n"
     ]
    }
   ],
   "source": [
    "# 소수판별\n",
    "\n",
    "num = int(input())\n",
    "\n",
    "if num == 1:\n",
    "    print('No')\n",
    "else:\n",
    "    for i in range(2,num):\n",
    "        if num % i == 0:\n",
    "            print('No')\n",
    "            break\n",
    "    else: print('Yes')"
   ]
  }
 ],
 "metadata": {
  "kernelspec": {
   "display_name": "Python 3 (ipykernel)",
   "language": "python",
   "name": "python3"
  },
  "language_info": {
   "codemirror_mode": {
    "name": "ipython",
    "version": 3
   },
   "file_extension": ".py",
   "mimetype": "text/x-python",
   "name": "python",
   "nbconvert_exporter": "python",
   "pygments_lexer": "ipython3",
   "version": "3.9.12"
  }
 },
 "nbformat": 4,
 "nbformat_minor": 5
}
