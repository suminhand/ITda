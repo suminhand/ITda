{
 "cells": [
  {
   "cell_type": "code",
   "execution_count": 6,
   "id": "57e0d29e",
   "metadata": {
    "scrolled": true
   },
   "outputs": [
    {
     "name": "stdout",
     "output_type": "stream",
     "text": [
      "pineapple is yummy\n",
      "apple\n",
      "4\n"
     ]
    }
   ],
   "source": [
    "# 문자열 속 문자 찾기\n",
    "\n",
    "input_str = input()\n",
    "find_str = input()\n",
    "\n",
    "index_ = input_str.find(find_str)\n",
    "print(index_)"
   ]
  }
 ],
 "metadata": {
  "kernelspec": {
   "display_name": "Python 3 (ipykernel)",
   "language": "python",
   "name": "python3"
  },
  "language_info": {
   "codemirror_mode": {
    "name": "ipython",
    "version": 3
   },
   "file_extension": ".py",
   "mimetype": "text/x-python",
   "name": "python",
   "nbconvert_exporter": "python",
   "pygments_lexer": "ipython3",
   "version": "3.9.12"
  }
 },
 "nbformat": 4,
 "nbformat_minor": 5
}
